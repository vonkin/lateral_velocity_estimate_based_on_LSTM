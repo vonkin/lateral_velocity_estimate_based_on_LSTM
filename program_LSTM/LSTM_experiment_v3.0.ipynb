{
 "cells": [
  {
   "cell_type": "markdown",
   "id": "b4507f9b",
   "metadata": {},
   "source": [
    "# 导入库"
   ]
  },
  {
   "cell_type": "code",
   "execution_count": null,
   "id": "bbee5ae0",
   "metadata": {},
   "outputs": [],
   "source": [
    "import os\n",
    "import tensorflow as tf\n",
    "import tensorflow.keras as keras\n",
    "import pandas as pd\n",
    "import matplotlib as mpl\n",
    "import matplotlib.pyplot as plt\n",
    "import numpy as np\n",
    "import scipy.io as sio\n",
    "from scipy.stats import reciprocal\n",
    "from sklearn.model_selection import train_test_split\n",
    "from sklearn.model_selection import RandomizedSearchCV\n",
    "from sklearn.preprocessing import StandardScaler\n",
    "from sklearn.preprocessing import MinMaxScaler\n",
    "\n",
    "import pickle\n",
    "\n",
    "from Lib import *\n",
    "\n",
    "devices = tf.config.list_physical_devices()\n",
    "try:\n",
    "    tf.config.set_visible_devices(devices[0])\n",
    "except:\n",
    "    print('set only CPU failed!')\n",
    "\n",
    "print('logical_devices: ',tf.config.list_logical_devices())\n",
    "print('visible_devices: ',tf.config.get_visible_devices())\n",
    "\n"
   ]
  },
  {
   "cell_type": "markdown",
   "id": "e9cde79d",
   "metadata": {
    "tags": []
   },
   "source": [
    "# 加载所有数据"
   ]
  },
  {
   "cell_type": "code",
   "execution_count": null,
   "id": "49f37090",
   "metadata": {
    "tags": []
   },
   "outputs": [],
   "source": [
    "loader = DataLoader(train_data_folder='1',test_data_folder='1',forward_steps=5,freq=200,pace=1,valid_size=0.1)\n",
    "X_train,Y_train,X_valid,Y_valid,X_test,Y_test = loader.load()\n",
    "print('Train dataset size: ',X_train.shape,Y_train.shape)\n",
    "print('Valid dataset size: ',X_valid.shape,Y_valid.shape)\n",
    "print('Test  dataset size: ',X_test.shape,Y_test.shape)"
   ]
  },
  {
   "cell_type": "markdown",
   "id": "a3b093ce",
   "metadata": {
    "tags": []
   },
   "source": [
    "# 建立模型"
   ]
  },
  {
   "cell_type": "code",
   "execution_count": null,
   "id": "e1b5cfd8",
   "metadata": {},
   "outputs": [],
   "source": [
    "def build_model(n_hidden=1,n_neurons_hidden=64,n_neurons=64,activate_func='relu',optimizer_name='Adam',dropout=0.075,lr=0.005):\n",
    "    model = keras.models.Sequential()\n",
    "    model.add(keras.layers.InputLayer(input_shape=[None,12]))\n",
    "    for layer in range(n_hidden):\n",
    "        model.add(keras.layers.LSTM(n_neurons_hidden,activation=activate_func,return_sequences=True,input_shape=[None,12]))\n",
    "    model.add(keras.layers.LSTM(n_neurons,activation=activate_func,input_shape=[None,12]))\n",
    "    model.add(keras.layers.Dropout(dropout))\n",
    "    model.add(keras.layers.Dense(64))\n",
    "    model.add(keras.layers.Dense(1))\n",
    "    model.summary()\n",
    "    if optimizer_name == 'Adam':\n",
    "        optimizer = keras.optimizers.Adam(learning_rate=lr)\n",
    "    elif optimizer_name == 'SGD':\n",
    "        optimizer = keras.optimizers.SGD(learning_rate=lr)\n",
    "    model.compile(loss=\"mse\", optimizer=optimizer)\n",
    "    return model\n",
    "\n",
    "model = build_model(n_hidden=0,n_neurons_hidden=64,n_neurons=128,activate_func='relu',optimizer_name='Adam',dropout=0.075,lr=0.1)"
   ]
  },
  {
   "cell_type": "markdown",
   "id": "482e827a",
   "metadata": {},
   "source": [
    "# 训练"
   ]
  },
  {
   "cell_type": "code",
   "execution_count": null,
   "id": "af872e9a",
   "metadata": {},
   "outputs": [],
   "source": [
    "early_stopping_cb = keras.callbacks.EarlyStopping(patience=20,restore_best_weights=True)\n",
    "history = model.fit(X_train,Y_train, \n",
    "                    epochs=100,\n",
    "                    validation_data=(X_valid, Y_valid),\n",
    "                    callbacks=[early_stopping_cb])"
   ]
  },
  {
   "cell_type": "code",
   "execution_count": null,
   "id": "01e71199-702f-46d1-91ee-e8ae991ccb1b",
   "metadata": {},
   "outputs": [],
   "source": [
    "with open('trainHistoryDict.txt', 'wb') as file_pi:\n",
    "    pickle.dump(history.history, file_pi)"
   ]
  },
  {
   "cell_type": "code",
   "execution_count": null,
   "id": "465a61ce-e03b-4108-89be-28031cb21707",
   "metadata": {},
   "outputs": [],
   "source": [
    "with open('trainHistoryDict.txt','rb') as file_pi:\n",
    "    history=pickle.load(file_pi)"
   ]
  },
  {
   "cell_type": "code",
   "execution_count": null,
   "id": "7a7c880e-2801-4f0b-94f6-d9094e7051ba",
   "metadata": {},
   "outputs": [],
   "source": [
    "def plot_learning_curves(loss, val_loss):\n",
    "    plt.plot(np.arange(len(loss)) + 0.5, loss, \"b.-\", label=\"Training loss\")\n",
    "    plt.plot(np.arange(len(val_loss)) + 1, val_loss, \"r.-\", label=\"Validation loss\")\n",
    "    plt.gca().xaxis.set_major_locator(mpl.ticker.MaxNLocator(integer=True))\n",
    "    #plt.axis([1, 20, 0, 0.05])\n",
    "    plt.legend(fontsize=14)\n",
    "    plt.xlabel(\"Epochs\")\n",
    "    plt.ylabel(\"Loss\")\n",
    "    plt.grid(True)\n",
    "\n",
    "plot_learning_curves(history[\"loss\"], history[\"val_loss\"])\n",
    "#plt.savefig('./train_epoch.jpg')\n",
    "plt.show()"
   ]
  },
  {
   "cell_type": "markdown",
   "id": "a4ca0258",
   "metadata": {},
   "source": [
    "# 评估训练结果"
   ]
  },
  {
   "cell_type": "code",
   "execution_count": null,
   "id": "067cebfd",
   "metadata": {},
   "outputs": [],
   "source": [
    "model.evaluate(X_test, Y_test)"
   ]
  },
  {
   "cell_type": "markdown",
   "id": "8ed7824c",
   "metadata": {},
   "source": [
    "# 预测输出"
   ]
  },
  {
   "cell_type": "code",
   "execution_count": null,
   "id": "26cee592",
   "metadata": {},
   "outputs": [],
   "source": [
    "model = keras.models.load_model(\"./temp_model/test.h5\")"
   ]
  },
  {
   "cell_type": "code",
   "execution_count": null,
   "id": "5ad70427",
   "metadata": {},
   "outputs": [],
   "source": [
    "tester = Tester(model=model,freq=200,forward_steps=5,test_data_folder='5')\n",
    "tester.test()"
   ]
  },
  {
   "cell_type": "code",
   "execution_count": null,
   "id": "3fdfac4c",
   "metadata": {},
   "outputs": [],
   "source": []
  }
 ],
 "metadata": {
  "kernelspec": {
   "display_name": "Python 3 (ipykernel)",
   "language": "python",
   "name": "python3"
  },
  "language_info": {
   "codemirror_mode": {
    "name": "ipython",
    "version": 3
   },
   "file_extension": ".py",
   "mimetype": "text/x-python",
   "name": "python",
   "nbconvert_exporter": "python",
   "pygments_lexer": "ipython3",
   "version": "3.7.10"
  }
 },
 "nbformat": 4,
 "nbformat_minor": 5
}
